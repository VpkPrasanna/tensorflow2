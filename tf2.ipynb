{
  "nbformat": 4,
  "nbformat_minor": 0,
  "metadata": {
    "colab": {
      "name": "tf2.ipynb",
      "provenance": [],
      "collapsed_sections": []
    },
    "kernelspec": {
      "name": "python3",
      "display_name": "Python 3"
    },
    "accelerator": "GPU"
  },
  "cells": [
    {
      "cell_type": "code",
      "metadata": {
        "id": "xsifEey7OK1a",
        "colab_type": "code",
        "colab": {}
      },
      "source": [
        "!pip install -q sklearn"
      ],
      "execution_count": 0,
      "outputs": []
    },
    {
      "cell_type": "code",
      "metadata": {
        "id": "VheqXzICOnxV",
        "colab_type": "code",
        "colab": {}
      },
      "source": [
        "%tensorflow_version 2.x"
      ],
      "execution_count": 0,
      "outputs": []
    },
    {
      "cell_type": "markdown",
      "metadata": {
        "id": "EvWqTMAUPO5P",
        "colab_type": "text"
      },
      "source": [
        "##Necessary Dependicies"
      ]
    },
    {
      "cell_type": "code",
      "metadata": {
        "id": "b3_QGACpOrdt",
        "colab_type": "code",
        "colab": {}
      },
      "source": [
        "from __future__ import absolute_import,division,print_function,unicode_literals\n",
        "\n",
        "import numpy as np\n",
        "import pandas as pd\n",
        "import matplotlib.pyplot as plt\n",
        "from IPython.display import clear_output\n",
        "from six.moves import urllib\n",
        "\n",
        "import tensorflow.compat.v2.feature_column as fc\n",
        "import tensorflow as tf"
      ],
      "execution_count": 0,
      "outputs": []
    },
    {
      "cell_type": "markdown",
      "metadata": {
        "id": "Gv1hG3OHPUDJ",
        "colab_type": "text"
      },
      "source": [
        "#Reading dataset"
      ]
    },
    {
      "cell_type": "code",
      "metadata": {
        "id": "PxCN_B-BPJxj",
        "colab_type": "code",
        "colab": {}
      },
      "source": [
        "dataset = pd.read_csv('/content/Iris.csv')\n",
        "shuffle_df = dataset.sample(frac=1)\n",
        "\n",
        "# Define a size for your train set\n",
        "train_size = int(0.7 * len(dataset))\n",
        "\n",
        "# Split your dataset\n",
        "train_set = shuffle_df[:train_size]\n",
        "test_set = shuffle_df[train_size:]\n",
        "\n",
        "train_set = train_set.drop(['Id'],axis=1)\n",
        "test_set = test_set.drop(['Id'],axis=1)"
      ],
      "execution_count": 0,
      "outputs": []
    },
    {
      "cell_type": "code",
      "metadata": {
        "id": "mdhmEyjkV7mT",
        "colab_type": "code",
        "colab": {}
      },
      "source": [
        "from sklearn.preprocessing import LabelEncoder\n",
        "le = LabelEncoder()\n",
        "train_set['Species'] = le.fit_transform(train_set['Species'])\n",
        "test_set['Species'] = le.fit_transform(test_set['Species'])"
      ],
      "execution_count": 0,
      "outputs": []
    },
    {
      "cell_type": "code",
      "metadata": {
        "id": "D_vq0X6XQD86",
        "colab_type": "code",
        "outputId": "8a2855fe-5cb1-424f-bfaa-9eed7d04d7d5",
        "colab": {
          "base_uri": "https://localhost:8080/",
          "height": 424
        }
      },
      "source": [
        "train_set"
      ],
      "execution_count": 22,
      "outputs": [
        {
          "output_type": "execute_result",
          "data": {
            "text/html": [
              "<div>\n",
              "<style scoped>\n",
              "    .dataframe tbody tr th:only-of-type {\n",
              "        vertical-align: middle;\n",
              "    }\n",
              "\n",
              "    .dataframe tbody tr th {\n",
              "        vertical-align: top;\n",
              "    }\n",
              "\n",
              "    .dataframe thead th {\n",
              "        text-align: right;\n",
              "    }\n",
              "</style>\n",
              "<table border=\"1\" class=\"dataframe\">\n",
              "  <thead>\n",
              "    <tr style=\"text-align: right;\">\n",
              "      <th></th>\n",
              "      <th>SepalLengthCm</th>\n",
              "      <th>SepalWidthCm</th>\n",
              "      <th>PetalLengthCm</th>\n",
              "      <th>PetalWidthCm</th>\n",
              "      <th>Species</th>\n",
              "    </tr>\n",
              "  </thead>\n",
              "  <tbody>\n",
              "    <tr>\n",
              "      <th>39</th>\n",
              "      <td>5.1</td>\n",
              "      <td>3.4</td>\n",
              "      <td>1.5</td>\n",
              "      <td>0.2</td>\n",
              "      <td>0</td>\n",
              "    </tr>\n",
              "    <tr>\n",
              "      <th>97</th>\n",
              "      <td>6.2</td>\n",
              "      <td>2.9</td>\n",
              "      <td>4.3</td>\n",
              "      <td>1.3</td>\n",
              "      <td>1</td>\n",
              "    </tr>\n",
              "    <tr>\n",
              "      <th>90</th>\n",
              "      <td>5.5</td>\n",
              "      <td>2.6</td>\n",
              "      <td>4.4</td>\n",
              "      <td>1.2</td>\n",
              "      <td>1</td>\n",
              "    </tr>\n",
              "    <tr>\n",
              "      <th>50</th>\n",
              "      <td>7.0</td>\n",
              "      <td>3.2</td>\n",
              "      <td>4.7</td>\n",
              "      <td>1.4</td>\n",
              "      <td>1</td>\n",
              "    </tr>\n",
              "    <tr>\n",
              "      <th>138</th>\n",
              "      <td>6.0</td>\n",
              "      <td>3.0</td>\n",
              "      <td>4.8</td>\n",
              "      <td>1.8</td>\n",
              "      <td>2</td>\n",
              "    </tr>\n",
              "    <tr>\n",
              "      <th>...</th>\n",
              "      <td>...</td>\n",
              "      <td>...</td>\n",
              "      <td>...</td>\n",
              "      <td>...</td>\n",
              "      <td>...</td>\n",
              "    </tr>\n",
              "    <tr>\n",
              "      <th>105</th>\n",
              "      <td>7.6</td>\n",
              "      <td>3.0</td>\n",
              "      <td>6.6</td>\n",
              "      <td>2.1</td>\n",
              "      <td>2</td>\n",
              "    </tr>\n",
              "    <tr>\n",
              "      <th>72</th>\n",
              "      <td>6.3</td>\n",
              "      <td>2.5</td>\n",
              "      <td>4.9</td>\n",
              "      <td>1.5</td>\n",
              "      <td>1</td>\n",
              "    </tr>\n",
              "    <tr>\n",
              "      <th>10</th>\n",
              "      <td>5.4</td>\n",
              "      <td>3.7</td>\n",
              "      <td>1.5</td>\n",
              "      <td>0.2</td>\n",
              "      <td>0</td>\n",
              "    </tr>\n",
              "    <tr>\n",
              "      <th>45</th>\n",
              "      <td>4.8</td>\n",
              "      <td>3.0</td>\n",
              "      <td>1.4</td>\n",
              "      <td>0.3</td>\n",
              "      <td>0</td>\n",
              "    </tr>\n",
              "    <tr>\n",
              "      <th>2</th>\n",
              "      <td>4.7</td>\n",
              "      <td>3.2</td>\n",
              "      <td>1.3</td>\n",
              "      <td>0.2</td>\n",
              "      <td>0</td>\n",
              "    </tr>\n",
              "  </tbody>\n",
              "</table>\n",
              "<p>105 rows × 5 columns</p>\n",
              "</div>"
            ],
            "text/plain": [
              "     SepalLengthCm  SepalWidthCm  PetalLengthCm  PetalWidthCm  Species\n",
              "39             5.1           3.4            1.5           0.2        0\n",
              "97             6.2           2.9            4.3           1.3        1\n",
              "90             5.5           2.6            4.4           1.2        1\n",
              "50             7.0           3.2            4.7           1.4        1\n",
              "138            6.0           3.0            4.8           1.8        2\n",
              "..             ...           ...            ...           ...      ...\n",
              "105            7.6           3.0            6.6           2.1        2\n",
              "72             6.3           2.5            4.9           1.5        1\n",
              "10             5.4           3.7            1.5           0.2        0\n",
              "45             4.8           3.0            1.4           0.3        0\n",
              "2              4.7           3.2            1.3           0.2        0\n",
              "\n",
              "[105 rows x 5 columns]"
            ]
          },
          "metadata": {
            "tags": []
          },
          "execution_count": 22
        }
      ]
    },
    {
      "cell_type": "code",
      "metadata": {
        "id": "mbeHIGgHSoHQ",
        "colab_type": "code",
        "outputId": "bd6a9aaf-de3b-4716-c8c7-63d5aa7244c0",
        "colab": {
          "base_uri": "https://localhost:8080/",
          "height": 206
        }
      },
      "source": [
        "train_y = train_set.pop('Species')\n",
        "test_y = test_set.pop('Species')\n",
        "train_set.head()\n"
      ],
      "execution_count": 23,
      "outputs": [
        {
          "output_type": "execute_result",
          "data": {
            "text/html": [
              "<div>\n",
              "<style scoped>\n",
              "    .dataframe tbody tr th:only-of-type {\n",
              "        vertical-align: middle;\n",
              "    }\n",
              "\n",
              "    .dataframe tbody tr th {\n",
              "        vertical-align: top;\n",
              "    }\n",
              "\n",
              "    .dataframe thead th {\n",
              "        text-align: right;\n",
              "    }\n",
              "</style>\n",
              "<table border=\"1\" class=\"dataframe\">\n",
              "  <thead>\n",
              "    <tr style=\"text-align: right;\">\n",
              "      <th></th>\n",
              "      <th>SepalLengthCm</th>\n",
              "      <th>SepalWidthCm</th>\n",
              "      <th>PetalLengthCm</th>\n",
              "      <th>PetalWidthCm</th>\n",
              "    </tr>\n",
              "  </thead>\n",
              "  <tbody>\n",
              "    <tr>\n",
              "      <th>39</th>\n",
              "      <td>5.1</td>\n",
              "      <td>3.4</td>\n",
              "      <td>1.5</td>\n",
              "      <td>0.2</td>\n",
              "    </tr>\n",
              "    <tr>\n",
              "      <th>97</th>\n",
              "      <td>6.2</td>\n",
              "      <td>2.9</td>\n",
              "      <td>4.3</td>\n",
              "      <td>1.3</td>\n",
              "    </tr>\n",
              "    <tr>\n",
              "      <th>90</th>\n",
              "      <td>5.5</td>\n",
              "      <td>2.6</td>\n",
              "      <td>4.4</td>\n",
              "      <td>1.2</td>\n",
              "    </tr>\n",
              "    <tr>\n",
              "      <th>50</th>\n",
              "      <td>7.0</td>\n",
              "      <td>3.2</td>\n",
              "      <td>4.7</td>\n",
              "      <td>1.4</td>\n",
              "    </tr>\n",
              "    <tr>\n",
              "      <th>138</th>\n",
              "      <td>6.0</td>\n",
              "      <td>3.0</td>\n",
              "      <td>4.8</td>\n",
              "      <td>1.8</td>\n",
              "    </tr>\n",
              "  </tbody>\n",
              "</table>\n",
              "</div>"
            ],
            "text/plain": [
              "     SepalLengthCm  SepalWidthCm  PetalLengthCm  PetalWidthCm\n",
              "39             5.1           3.4            1.5           0.2\n",
              "97             6.2           2.9            4.3           1.3\n",
              "90             5.5           2.6            4.4           1.2\n",
              "50             7.0           3.2            4.7           1.4\n",
              "138            6.0           3.0            4.8           1.8"
            ]
          },
          "metadata": {
            "tags": []
          },
          "execution_count": 23
        }
      ]
    },
    {
      "cell_type": "code",
      "metadata": {
        "id": "OoYJv80PU6KN",
        "colab_type": "code",
        "outputId": "6d11015c-7069-48d6-bf84-54f76a19fd26",
        "colab": {
          "base_uri": "https://localhost:8080/",
          "height": 34
        }
      },
      "source": [
        "len(set(train_y))"
      ],
      "execution_count": 24,
      "outputs": [
        {
          "output_type": "execute_result",
          "data": {
            "text/plain": [
              "3"
            ]
          },
          "metadata": {
            "tags": []
          },
          "execution_count": 24
        }
      ]
    },
    {
      "cell_type": "code",
      "metadata": {
        "id": "jM3soC7dS39t",
        "colab_type": "code",
        "outputId": "520195a8-1f7b-4ade-d38c-7168d1e58726",
        "colab": {
          "base_uri": "https://localhost:8080/",
          "height": 34
        }
      },
      "source": [
        "train_set.shape"
      ],
      "execution_count": 25,
      "outputs": [
        {
          "output_type": "execute_result",
          "data": {
            "text/plain": [
              "(105, 4)"
            ]
          },
          "metadata": {
            "tags": []
          },
          "execution_count": 25
        }
      ]
    },
    {
      "cell_type": "code",
      "metadata": {
        "id": "7ZochwOQTNxY",
        "colab_type": "code",
        "outputId": "73eea005-ceec-48f0-a12f-be2e285e30af",
        "colab": {
          "base_uri": "https://localhost:8080/",
          "height": 34
        }
      },
      "source": [
        "test_set.shape"
      ],
      "execution_count": 26,
      "outputs": [
        {
          "output_type": "execute_result",
          "data": {
            "text/plain": [
              "(45, 4)"
            ]
          },
          "metadata": {
            "tags": []
          },
          "execution_count": 26
        }
      ]
    },
    {
      "cell_type": "code",
      "metadata": {
        "id": "qHoW041qTX_-",
        "colab_type": "code",
        "colab": {}
      },
      "source": [
        "def input_fn(features,labels,training = True,batch_size = 256):\n",
        "  dataset = tf.data.Dataset.from_tensor_slices((dict(features),labels))\n",
        "  if training:\n",
        "    dataset = dataset.shuffle(1000).repeat()\n",
        "  return dataset.batch(batch_size)"
      ],
      "execution_count": 0,
      "outputs": []
    },
    {
      "cell_type": "code",
      "metadata": {
        "id": "xWIDVAWRUCAu",
        "colab_type": "code",
        "outputId": "14b0c98b-cecd-4ba1-8710-be08e05981d1",
        "colab": {
          "base_uri": "https://localhost:8080/",
          "height": 54
        }
      },
      "source": [
        "my_feature_column = []\n",
        "for key in train_set.keys():\n",
        "  my_feature_column.append(tf.feature_column.numeric_column(key=key))\n",
        "print(my_feature_column)"
      ],
      "execution_count": 28,
      "outputs": [
        {
          "output_type": "stream",
          "text": [
            "[NumericColumn(key='SepalLengthCm', shape=(1,), default_value=None, dtype=tf.float32, normalizer_fn=None), NumericColumn(key='SepalWidthCm', shape=(1,), default_value=None, dtype=tf.float32, normalizer_fn=None), NumericColumn(key='PetalLengthCm', shape=(1,), default_value=None, dtype=tf.float32, normalizer_fn=None), NumericColumn(key='PetalWidthCm', shape=(1,), default_value=None, dtype=tf.float32, normalizer_fn=None)]\n"
          ],
          "name": "stdout"
        }
      ]
    },
    {
      "cell_type": "code",
      "metadata": {
        "id": "QCSKkONKVEg4",
        "colab_type": "code",
        "outputId": "74362e4e-d320-4a78-bc47-313bed96ca39",
        "colab": {
          "base_uri": "https://localhost:8080/",
          "height": 34
        }
      },
      "source": [
        "mkdir outputs_dir"
      ],
      "execution_count": 29,
      "outputs": [
        {
          "output_type": "stream",
          "text": [
            "mkdir: cannot create directory ‘outputs_dir’: File exists\n"
          ],
          "name": "stdout"
        }
      ]
    },
    {
      "cell_type": "markdown",
      "metadata": {
        "id": "MOf54jTWUg8q",
        "colab_type": "text"
      },
      "source": [
        "## Building the model"
      ]
    },
    {
      "cell_type": "code",
      "metadata": {
        "id": "JCBu7GVdUZQ8",
        "colab_type": "code",
        "outputId": "ebd79e88-9797-4f54-8410-0e465fc7446b",
        "colab": {
          "base_uri": "https://localhost:8080/",
          "height": 176
        }
      },
      "source": [
        "calssifier = tf.estimator.DNNClassifier(feature_columns=my_feature_column,hidden_units=[30,10],n_classes=3,model_dir='/content/outputs_dir')"
      ],
      "execution_count": 30,
      "outputs": [
        {
          "output_type": "stream",
          "text": [
            "INFO:tensorflow:Using default config.\n",
            "INFO:tensorflow:Using config: {'_model_dir': '/content/outputs_dir', '_tf_random_seed': None, '_save_summary_steps': 100, '_save_checkpoints_steps': None, '_save_checkpoints_secs': 600, '_session_config': allow_soft_placement: true\n",
            "graph_options {\n",
            "  rewrite_options {\n",
            "    meta_optimizer_iterations: ONE\n",
            "  }\n",
            "}\n",
            ", '_keep_checkpoint_max': 5, '_keep_checkpoint_every_n_hours': 10000, '_log_step_count_steps': 100, '_train_distribute': None, '_device_fn': None, '_protocol': None, '_eval_distribute': None, '_experimental_distribute': None, '_experimental_max_worker_delay_secs': None, '_session_creation_timeout_secs': 7200, '_service': None, '_cluster_spec': ClusterSpec({}), '_task_type': 'worker', '_task_id': 0, '_global_id_in_cluster': 0, '_master': '', '_evaluation_master': '', '_is_chief': True, '_num_ps_replicas': 0, '_num_worker_replicas': 1}\n"
          ],
          "name": "stdout"
        }
      ]
    },
    {
      "cell_type": "code",
      "metadata": {
        "id": "Jf75hnEQUZUp",
        "colab_type": "code",
        "outputId": "9309f5d2-5e7e-4343-bae1-b9df26ce90e3",
        "colab": {
          "base_uri": "https://localhost:8080/",
          "height": 1000
        }
      },
      "source": [
        "calssifier.train(input_fn = lambda: input_fn(train_set,train_y,training=True),steps = 5000)"
      ],
      "execution_count": 31,
      "outputs": [
        {
          "output_type": "stream",
          "text": [
            "INFO:tensorflow:Calling model_fn.\n",
            "WARNING:tensorflow:Layer dnn is casting an input tensor from dtype float64 to the layer's dtype of float32, which is new behavior in TensorFlow 2.  The layer has dtype float32 because it's dtype defaults to floatx.\n",
            "\n",
            "If you intended to run this layer in float32, you can safely ignore this warning. If in doubt, this warning is likely only an issue if you are porting a TensorFlow 1.X model to TensorFlow 2.\n",
            "\n",
            "To change all layers to have dtype float64 by default, call `tf.keras.backend.set_floatx('float64')`. To change just this layer, pass dtype='float64' to the layer constructor. If you are the author of this layer, you can disable autocasting by passing autocast=False to the base Layer constructor.\n",
            "\n",
            "INFO:tensorflow:Done calling model_fn.\n",
            "INFO:tensorflow:Create CheckpointSaverHook.\n",
            "INFO:tensorflow:Graph was finalized.\n",
            "INFO:tensorflow:Restoring parameters from /content/outputs_dir/model.ckpt-10000\n",
            "INFO:tensorflow:Running local_init_op.\n",
            "INFO:tensorflow:Done running local_init_op.\n",
            "INFO:tensorflow:Calling checkpoint listeners before saving checkpoint 10000...\n",
            "INFO:tensorflow:Saving checkpoints for 10000 into /content/outputs_dir/model.ckpt.\n",
            "INFO:tensorflow:Calling checkpoint listeners after saving checkpoint 10000...\n",
            "INFO:tensorflow:loss = 0.24153529, step = 10000\n",
            "INFO:tensorflow:global_step/sec: 261.917\n",
            "INFO:tensorflow:loss = 0.23899184, step = 10100 (0.384 sec)\n",
            "INFO:tensorflow:global_step/sec: 287.403\n",
            "INFO:tensorflow:loss = 0.24105811, step = 10200 (0.350 sec)\n",
            "INFO:tensorflow:global_step/sec: 310.249\n",
            "INFO:tensorflow:loss = 0.2362511, step = 10300 (0.319 sec)\n",
            "INFO:tensorflow:global_step/sec: 289.158\n",
            "INFO:tensorflow:loss = 0.23154709, step = 10400 (0.347 sec)\n",
            "INFO:tensorflow:global_step/sec: 291.373\n",
            "INFO:tensorflow:loss = 0.23561017, step = 10500 (0.346 sec)\n",
            "INFO:tensorflow:global_step/sec: 300.568\n",
            "INFO:tensorflow:loss = 0.23512241, step = 10600 (0.333 sec)\n",
            "INFO:tensorflow:global_step/sec: 302.874\n",
            "INFO:tensorflow:loss = 0.2363947, step = 10700 (0.330 sec)\n",
            "INFO:tensorflow:global_step/sec: 284.535\n",
            "INFO:tensorflow:loss = 0.23611578, step = 10800 (0.351 sec)\n",
            "INFO:tensorflow:global_step/sec: 309.98\n",
            "INFO:tensorflow:loss = 0.23180622, step = 10900 (0.322 sec)\n",
            "INFO:tensorflow:global_step/sec: 304.599\n",
            "INFO:tensorflow:loss = 0.22319607, step = 11000 (0.328 sec)\n",
            "INFO:tensorflow:global_step/sec: 288.997\n",
            "INFO:tensorflow:loss = 0.22480565, step = 11100 (0.345 sec)\n",
            "INFO:tensorflow:global_step/sec: 305.447\n",
            "INFO:tensorflow:loss = 0.22152375, step = 11200 (0.331 sec)\n",
            "INFO:tensorflow:global_step/sec: 296.215\n",
            "INFO:tensorflow:loss = 0.22213998, step = 11300 (0.334 sec)\n",
            "INFO:tensorflow:global_step/sec: 302.702\n",
            "INFO:tensorflow:loss = 0.21695206, step = 11400 (0.331 sec)\n",
            "INFO:tensorflow:global_step/sec: 295.973\n",
            "INFO:tensorflow:loss = 0.22004838, step = 11500 (0.340 sec)\n",
            "INFO:tensorflow:global_step/sec: 294.993\n",
            "INFO:tensorflow:loss = 0.22240482, step = 11600 (0.340 sec)\n",
            "INFO:tensorflow:global_step/sec: 283.018\n",
            "INFO:tensorflow:loss = 0.21281296, step = 11700 (0.353 sec)\n",
            "INFO:tensorflow:global_step/sec: 298.233\n",
            "INFO:tensorflow:loss = 0.21493179, step = 11800 (0.335 sec)\n",
            "INFO:tensorflow:global_step/sec: 300.423\n",
            "INFO:tensorflow:loss = 0.20850554, step = 11900 (0.333 sec)\n",
            "INFO:tensorflow:global_step/sec: 299.617\n",
            "INFO:tensorflow:loss = 0.21507603, step = 12000 (0.330 sec)\n",
            "INFO:tensorflow:global_step/sec: 295.672\n",
            "INFO:tensorflow:loss = 0.20671862, step = 12100 (0.341 sec)\n",
            "INFO:tensorflow:global_step/sec: 296.979\n",
            "INFO:tensorflow:loss = 0.21422759, step = 12200 (0.335 sec)\n",
            "INFO:tensorflow:global_step/sec: 298.228\n",
            "INFO:tensorflow:loss = 0.2071464, step = 12300 (0.337 sec)\n",
            "INFO:tensorflow:global_step/sec: 295.06\n",
            "INFO:tensorflow:loss = 0.2094509, step = 12400 (0.339 sec)\n",
            "INFO:tensorflow:global_step/sec: 303.359\n",
            "INFO:tensorflow:loss = 0.20396727, step = 12500 (0.326 sec)\n",
            "INFO:tensorflow:global_step/sec: 296.513\n",
            "INFO:tensorflow:loss = 0.19856837, step = 12600 (0.338 sec)\n",
            "INFO:tensorflow:global_step/sec: 263.671\n",
            "INFO:tensorflow:loss = 0.2032439, step = 12700 (0.381 sec)\n",
            "INFO:tensorflow:global_step/sec: 292.639\n",
            "INFO:tensorflow:loss = 0.20211187, step = 12800 (0.339 sec)\n",
            "INFO:tensorflow:global_step/sec: 291.225\n",
            "INFO:tensorflow:loss = 0.20566918, step = 12900 (0.346 sec)\n",
            "INFO:tensorflow:global_step/sec: 298.79\n",
            "INFO:tensorflow:loss = 0.20797217, step = 13000 (0.332 sec)\n",
            "INFO:tensorflow:global_step/sec: 272.275\n",
            "INFO:tensorflow:loss = 0.20274135, step = 13100 (0.370 sec)\n",
            "INFO:tensorflow:global_step/sec: 257.716\n",
            "INFO:tensorflow:loss = 0.19834445, step = 13200 (0.385 sec)\n",
            "INFO:tensorflow:global_step/sec: 284.034\n",
            "INFO:tensorflow:loss = 0.21346532, step = 13300 (0.354 sec)\n",
            "INFO:tensorflow:global_step/sec: 294.416\n",
            "INFO:tensorflow:loss = 0.19681402, step = 13400 (0.339 sec)\n",
            "INFO:tensorflow:global_step/sec: 273.473\n",
            "INFO:tensorflow:loss = 0.19480973, step = 13500 (0.367 sec)\n",
            "INFO:tensorflow:global_step/sec: 297.299\n",
            "INFO:tensorflow:loss = 0.19613628, step = 13600 (0.339 sec)\n",
            "INFO:tensorflow:global_step/sec: 298.813\n",
            "INFO:tensorflow:loss = 0.19633478, step = 13700 (0.329 sec)\n",
            "INFO:tensorflow:global_step/sec: 295.624\n",
            "INFO:tensorflow:loss = 0.19552173, step = 13800 (0.343 sec)\n",
            "INFO:tensorflow:global_step/sec: 279.929\n",
            "INFO:tensorflow:loss = 0.19245362, step = 13900 (0.357 sec)\n",
            "INFO:tensorflow:global_step/sec: 267.222\n",
            "INFO:tensorflow:loss = 0.19147024, step = 14000 (0.374 sec)\n",
            "INFO:tensorflow:global_step/sec: 274.965\n",
            "INFO:tensorflow:loss = 0.19592372, step = 14100 (0.361 sec)\n",
            "INFO:tensorflow:global_step/sec: 287.459\n",
            "INFO:tensorflow:loss = 0.19367698, step = 14200 (0.347 sec)\n",
            "INFO:tensorflow:global_step/sec: 301.62\n",
            "INFO:tensorflow:loss = 0.18869154, step = 14300 (0.332 sec)\n",
            "INFO:tensorflow:global_step/sec: 300.751\n",
            "INFO:tensorflow:loss = 0.18307897, step = 14400 (0.333 sec)\n",
            "INFO:tensorflow:global_step/sec: 271.887\n",
            "INFO:tensorflow:loss = 0.19604301, step = 14500 (0.370 sec)\n",
            "INFO:tensorflow:global_step/sec: 253.555\n",
            "INFO:tensorflow:loss = 0.19442387, step = 14600 (0.394 sec)\n",
            "INFO:tensorflow:global_step/sec: 272.769\n",
            "INFO:tensorflow:loss = 0.18366039, step = 14700 (0.365 sec)\n",
            "INFO:tensorflow:global_step/sec: 299.114\n",
            "INFO:tensorflow:loss = 0.18739867, step = 14800 (0.333 sec)\n",
            "INFO:tensorflow:global_step/sec: 297.445\n",
            "INFO:tensorflow:loss = 0.1826351, step = 14900 (0.339 sec)\n",
            "INFO:tensorflow:Calling checkpoint listeners before saving checkpoint 15000...\n",
            "INFO:tensorflow:Saving checkpoints for 15000 into /content/outputs_dir/model.ckpt.\n",
            "INFO:tensorflow:Calling checkpoint listeners after saving checkpoint 15000...\n",
            "INFO:tensorflow:Loss for final step: 0.18156499.\n"
          ],
          "name": "stdout"
        },
        {
          "output_type": "execute_result",
          "data": {
            "text/plain": [
              "<tensorflow_estimator.python.estimator.canned.dnn.DNNClassifierV2 at 0x7fe2231278d0>"
            ]
          },
          "metadata": {
            "tags": []
          },
          "execution_count": 31
        }
      ]
    },
    {
      "cell_type": "code",
      "metadata": {
        "id": "xWrGLu4KUZYx",
        "colab_type": "code",
        "outputId": "2da46ec1-aa6d-4bf4-a46d-dd836e7c0d04",
        "colab": {
          "base_uri": "https://localhost:8080/",
          "height": 384
        }
      },
      "source": [
        "eval_results = calssifier.evaluate(input_fn=lambda: input_fn(test_set,test_y,training = False))\n",
        "print('\\n Test set accuracy :{accuracy:0.3f}\\n '.format(**eval_results))"
      ],
      "execution_count": 35,
      "outputs": [
        {
          "output_type": "stream",
          "text": [
            "INFO:tensorflow:Calling model_fn.\n",
            "WARNING:tensorflow:Layer dnn is casting an input tensor from dtype float64 to the layer's dtype of float32, which is new behavior in TensorFlow 2.  The layer has dtype float32 because it's dtype defaults to floatx.\n",
            "\n",
            "If you intended to run this layer in float32, you can safely ignore this warning. If in doubt, this warning is likely only an issue if you are porting a TensorFlow 1.X model to TensorFlow 2.\n",
            "\n",
            "To change all layers to have dtype float64 by default, call `tf.keras.backend.set_floatx('float64')`. To change just this layer, pass dtype='float64' to the layer constructor. If you are the author of this layer, you can disable autocasting by passing autocast=False to the base Layer constructor.\n",
            "\n",
            "INFO:tensorflow:Done calling model_fn.\n",
            "INFO:tensorflow:Starting evaluation at 2020-03-31T12:55:58Z\n",
            "INFO:tensorflow:Graph was finalized.\n",
            "INFO:tensorflow:Restoring parameters from /content/outputs_dir/model.ckpt-15000\n",
            "INFO:tensorflow:Running local_init_op.\n",
            "INFO:tensorflow:Done running local_init_op.\n",
            "INFO:tensorflow:Inference Time : 0.26631s\n",
            "INFO:tensorflow:Finished evaluation at 2020-03-31-12:55:59\n",
            "INFO:tensorflow:Saving dict for global step 15000: accuracy = 1.0, average_loss = 0.14467502, global_step = 15000, loss = 0.14467502\n",
            "INFO:tensorflow:Saving 'checkpoint_path' summary for global step 15000: /content/outputs_dir/model.ckpt-15000\n",
            "\n",
            " Test set accuracy :1.000\n",
            " \n"
          ],
          "name": "stdout"
        }
      ]
    },
    {
      "cell_type": "code",
      "metadata": {
        "id": "ppKU7E3E0Qlg",
        "colab_type": "code",
        "colab": {}
      },
      "source": [
        "Species = ['setosa','versicolor','virginica']"
      ],
      "execution_count": 0,
      "outputs": []
    },
    {
      "cell_type": "code",
      "metadata": {
        "id": "LRsix_xvUZd5",
        "colab_type": "code",
        "colab": {
          "base_uri": "https://localhost:8080/",
          "height": 243
        },
        "outputId": "32958906-26c7-4e82-ee5c-619aef5244b5"
      },
      "source": [
        "def input_fn(features,batch_size=256):\n",
        "  return tf.data.Dataset.from_tensor_slices(dict(features)).batch(batch_size)\n",
        "\n",
        "features = ['SepalLengthCm','SepalWidthCm','PetalLengthCm','PetalWidthCm']\n",
        "predict = {}\n",
        "\n",
        "print(\"please type numeric values as prompted\")\n",
        "\n",
        "for feature in features:\n",
        "  valid = True\n",
        "  while valid:\n",
        "    val = input(feature + \": \")\n",
        "    if not val.isdigit():valid = False\n",
        "\n",
        "    predict[feature] = [float(val)]\n",
        "\n",
        "predictions = calssifier.predict(input_fn =lambda: input_fn(predict))  \n",
        "for pred_dict in predictions:\n",
        "  class_id = pred_dict['class_ids'][0]\n",
        "  probability = pred_dict['probabilities'][class_id]\n",
        "  print(Species[class_id])\n",
        "  print(100 * probability)\n",
        "  # print('prediction is \"{}\"({:.1f%})'.format(Species[class_id],100 * probability))"
      ],
      "execution_count": 48,
      "outputs": [
        {
          "output_type": "stream",
          "text": [
            "please type numeric values as prompted\n",
            "SepalLengthCm: 2.4\n",
            "SepalWidthCm: 2.6\n",
            "PetalLengthCm: 6.3\n",
            "PetalWidthCm: 6.4\n",
            "INFO:tensorflow:Calling model_fn.\n",
            "INFO:tensorflow:Done calling model_fn.\n",
            "INFO:tensorflow:Graph was finalized.\n",
            "INFO:tensorflow:Restoring parameters from /content/outputs_dir/model.ckpt-15000\n",
            "INFO:tensorflow:Running local_init_op.\n",
            "INFO:tensorflow:Done running local_init_op.\n",
            "virginica\n",
            "95.93827724456787\n"
          ],
          "name": "stdout"
        }
      ]
    },
    {
      "cell_type": "code",
      "metadata": {
        "id": "xaihKesoUZi5",
        "colab_type": "code",
        "colab": {}
      },
      "source": [
        ""
      ],
      "execution_count": 0,
      "outputs": []
    },
    {
      "cell_type": "code",
      "metadata": {
        "id": "2pMj6f55UZlx",
        "colab_type": "code",
        "colab": {}
      },
      "source": [
        ""
      ],
      "execution_count": 0,
      "outputs": []
    },
    {
      "cell_type": "code",
      "metadata": {
        "id": "RSvOl5aFUZg_",
        "colab_type": "code",
        "colab": {}
      },
      "source": [
        ""
      ],
      "execution_count": 0,
      "outputs": []
    },
    {
      "cell_type": "code",
      "metadata": {
        "id": "nz57wkY6UZcZ",
        "colab_type": "code",
        "colab": {}
      },
      "source": [
        ""
      ],
      "execution_count": 0,
      "outputs": []
    }
  ]
}